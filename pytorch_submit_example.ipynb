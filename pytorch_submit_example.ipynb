{
  "nbformat": 4,
  "nbformat_minor": 0,
  "metadata": {
    "colab": {
      "name": "pytorch_submit_example.ipynb",
      "provenance": [],
      "include_colab_link": true
    },
    "kernelspec": {
      "name": "python3",
      "display_name": "Python 3"
    }
  },
  "cells": [
    {
      "cell_type": "markdown",
      "metadata": {
        "id": "view-in-github",
        "colab_type": "text"
      },
      "source": [
        "<a href=\"https://colab.research.google.com/github/KoMurase/-/blob/master/pytorch_submit_example.ipynb\" target=\"_parent\"><img src=\"https://colab.research.google.com/assets/colab-badge.svg\" alt=\"Open In Colab\"/></a>"
      ]
    },
    {
      "cell_type": "markdown",
      "metadata": {
        "id": "DxQ17fb41o5B",
        "colab_type": "text"
      },
      "source": [
        "拾ってきたやつのメモ<br>\n",
        "PyTorchを使った学習/推論コード（LB: 0.660）<br>\n",
        "\n",
        "google colaboratoryで実行<br>\n",
        "モデルとしてResNet18を使用<br>\n",
        "データ拡張はhorizontal flipのみ<br>"
      ]
    },
    {
      "cell_type": "markdown",
      "metadata": {
        "id": "rD6DzgMp14nF",
        "colab_type": "text"
      },
      "source": [
        "<h1>セットアップ</h1>\n",
        "<text>学習データとテストデータをGoogle Driveから読み込む <br>\n",
        "このコードを実行する前に、これらのデータファイルをGoogle Driveの ProbSpace/ukiyoe/ 以下に保存</text>"
      ]
    },
    {
      "cell_type": "code",
      "metadata": {
        "id": "JJtllJJG2obv",
        "colab_type": "code",
        "colab": {}
      },
      "source": [
        "from google.colab import drive\n",
        "drive.mount('/content/drive')"
      ],
      "execution_count": 0,
      "outputs": []
    },
    {
      "cell_type": "code",
      "metadata": {
        "id": "h7xt4CYP1Zgd",
        "colab_type": "code",
        "colab": {}
      },
      "source": [
        "!pip install imagehash\n",
        "#画像の重複をみるため"
      ],
      "execution_count": 0,
      "outputs": []
    },
    {
      "cell_type": "code",
      "metadata": {
        "id": "4rkBSlnq2kwo",
        "colab_type": "code",
        "colab": {}
      },
      "source": [
        "import google.colab\n",
        "\n",
        "import numpy as np\n",
        "import matplotlib.pyplot as plt\n",
        "from PIL import Image\n",
        "from sklearn.model_selection import train_test_split\n",
        "\n",
        "import torch.cuda\n",
        "import torch.nn as nn\n",
        "import torch.optim as optim\n",
        "import torch.autograd as autograd\n",
        "import torch.utils.data as dataset\n",
        "import torchvision.models as models\n",
        "\n",
        "import albumentations\n",
        "import imagehash\n",
        "import argparse\n",
        "import os\n",
        "import tqdm\n",
        "import random\n",
        "import csv\n",
        "\n",
        "DATA_DIR = 'drive/My Drive/'### ここを書き換えてデータ保存先を指定する\n",
        "RANDOM_SEED = 2019\n",
        "\n",
        "random.seed(RANDOM_SEED)\n",
        "os.environ['PYTHONHASHSEED'] = str(RANDOM_SEED)\n",
        "np.random.seed(RANDOM_SEED)\n",
        "torch.manual_seed(RANDOM_SEED)\n",
        "torch.cuda.manual_seed(RANDOM_SEED)\n",
        "\n",
        "torch.torch.backends.cudnn.benchmark = True\n",
        "torch.torch.backends.cudnn.enabled = True"
      ],
      "execution_count": 0,
      "outputs": []
    },
    {
      "cell_type": "markdown",
      "metadata": {
        "id": "iQu6yScB4Q0N",
        "colab_type": "text"
      },
      "source": [
        "データの読み込み<br>\n",
        "それぞれのデータをndarrayとして読み込む。<br>\n",
        "画像のデータ形式は (width, height, channel) となっている。<br>"
      ]
    },
    {
      "cell_type": "code",
      "metadata": {
        "id": "p60OQDFz2vC2",
        "colab_type": "code",
        "colab": {}
      },
      "source": [
        "train_labels = np.load(os.path.join(DATA_DIR, 'ukiyoe-train-labels.npz'))['arr_0']\n",
        "train_images = np.load(os.path.join(DATA_DIR, 'ukiyoe-train-imgs.npz'))['arr_0']\n",
        "test_images = np.load(os.path.join(DATA_DIR, 'ukiyoe-test-imgs.npz'))['arr_0']\n",
        "\n",
        "print('train-labels: shape={}, dtype={}'.format(train_labels.shape, train_labels.dtype))\n",
        "print('train-images: shape={}, dtype={}'.format(train_images.shape, train_images.dtype))\n",
        "print('test-images: shape={}, dtype={}'.format(test_images.shape, test_images.dtype))"
      ],
      "execution_count": 0,
      "outputs": []
    },
    {
      "cell_type": "markdown",
      "metadata": {
        "id": "YjKNNeD95yJ4",
        "colab_type": "text"
      },
      "source": [
        "データの確認<br>"
      ]
    },
    {
      "cell_type": "code",
      "metadata": {
        "id": "u_n0g9l155t6",
        "colab_type": "code",
        "colab": {}
      },
      "source": [
        "print('train-labels: min={}, max={}'.format(np.min(train_labels), np.max(train_labels)))\n",
        "axis = plt.figure().add_subplot(1, 1, 1)\n",
        "axis.set_xlabel('label')\n",
        "axis.set_ylabel('# of images')\n",
        "axis.hist(train_labels)\n",
        "plt.show()"
      ],
      "execution_count": 0,
      "outputs": []
    },
    {
      "cell_type": "code",
      "metadata": {
        "id": "lBzQxuDl6LVX",
        "colab_type": "code",
        "colab": {}
      },
      "source": [
        "images = [[] for _ in range(10)]\n",
        "\n",
        "for image, label in zip(train_images, train_labels):\n",
        "  images[label].append(image)\n",
        "\n",
        "figure = plt.figure(figsize=(8, 18))\n",
        "\n",
        "for i in range(10):\n",
        "  for j, img in enumerate(images[i][:5]):\n",
        "    axis = figure.add_subplot(10, 5, i * 5 + j + 1)\n",
        "\n",
        "    axis.imshow(img)\n",
        "    axis.tick_params(labelbottom=False, labelleft=False, bottom=False, left=False)\n",
        "    axis.set_xlabel(f'class={i}')\n",
        "\n",
        "plt.show()\n"
      ],
      "execution_count": 0,
      "outputs": []
    },
    {
      "cell_type": "markdown",
      "metadata": {
        "id": "mbot1lFC6PqN",
        "colab_type": "text"
      },
      "source": [
        "重複画像の確認<br>\n",
        "非常に似ている画像が存在する可能性があるため行う。<br>\n",
        "テストデータの中にも重複していると思われる画像を確認できます<br>\n",
        "浮世絵コンペでは出典元の違いなどで重複が見られた"
      ]
    },
    {
      "cell_type": "code",
      "metadata": {
        "id": "Vv3wUtLj6OGw",
        "colab_type": "code",
        "colab": {}
      },
      "source": [
        "data = [[f'train_{t}_{i}', x, None] for i, (x, t) in enumerate(zip(train_images, train_labels))]\n",
        "data.extend([f'test_{i}', x, None] for i, x in enumerate(test_images))\n",
        "\n",
        "for i in tqdm.tqdm(range(len(data)), desc='hashing'):\n",
        "  data[i][2] = imagehash.phash(Image.fromarray(data[i][1]))\n",
        "\n",
        "threshold = 10\n",
        "clusters = []\n",
        "\n",
        "for x in tqdm.tqdm(data, desc='clustering'):\n",
        "  for c in clusters:\n",
        "    for _, _, h in c:\n",
        "      if h - x[2] < threshold:\n",
        "        c.append(x)\n",
        "        x = None\n",
        "        break\n",
        "\n",
        "    if x is None:\n",
        "      break\n",
        "\n",
        "  if x is not None:\n",
        "    clusters.append([x])\n"
      ],
      "execution_count": 0,
      "outputs": []
    },
    {
      "cell_type": "code",
      "metadata": {
        "id": "7lq8k7IJ6wf_",
        "colab_type": "code",
        "colab": {}
      },
      "source": [
        "dups = [c for c in clusters if len(c) > 2]\n",
        "\n",
        "print(f'{len(dups)} duplications are found')\n",
        "\n",
        "figure = plt.figure(figsize=(8, 30))\n",
        "\n",
        "for i, dup in enumerate(dups):\n",
        "  for j, (n, x, _) in enumerate(dup[:5]):\n",
        "    axis = figure.add_subplot(len(dups), 5, i * 5 + j + 1)\n",
        "    axis.imshow(x)\n",
        "    axis.tick_params(labelbottom=False, labelleft=False, bottom=False, left=False)\n",
        "    axis.set_xlabel(n)\n",
        "\n",
        "plt.show()"
      ],
      "execution_count": 0,
      "outputs": []
    },
    {
      "cell_type": "markdown",
      "metadata": {
        "id": "yKbswkV-6tyS",
        "colab_type": "text"
      },
      "source": [
        "モデルの作成<br>\n",
        "モデルはResNet18を使用。<br>\n",
        "このコンペではImageNetなどの学習済みパラメータを使えないので、ネットワークの定義だけを使っています。"
      ]
    },
    {
      "cell_type": "code",
      "metadata": {
        "id": "igNTjjLw6438",
        "colab_type": "code",
        "colab": {}
      },
      "source": [
        "model = models.resnet18(pretrained=False, num_classes=10)\n",
        "model.cuda() "
      ],
      "execution_count": 0,
      "outputs": []
    },
    {
      "cell_type": "markdown",
      "metadata": {
        "id": "Hy6jlqoj7F0A",
        "colab_type": "text"
      },
      "source": [
        "データの前処理<br>\n",
        "データ拡張はhorizontal flipのみを使用。<br>\n",
        "今回の画像データは(width, height, channels)の形式になっていますが、PyTorchの入力データとするために(channels, width, height)の形式に変更しています。\n",
        "\n"
      ]
    },
    {
      "cell_type": "code",
      "metadata": {
        "id": "2NoKOqqT7BBK",
        "colab_type": "code",
        "colab": {}
      },
      "source": [
        "class Dataset(dataset.Dataset):\n",
        "\n",
        "  def __init__(self, images, labels, train=False):\n",
        "    super().__init__()\n",
        "    transforms = []\n",
        "\n",
        "    if train:\n",
        "      transforms.append(albumentations.HorizontalFlip(p=0.5))\n",
        "\n",
        "    transforms.append(albumentations.ToFloat())\n",
        "\n",
        "    self.transform = albumentations.Compose(transforms)\n",
        "    self.images = images\n",
        "    self.labels = labels\n",
        "\n",
        "  def __len__(self):\n",
        "    return len(self.images)\n",
        "\n",
        "  def __getitem__(self, idx):\n",
        "    image = np.rollaxis(self.transform(image=self.images[idx])['image'], 2, 0)\n",
        "    label = self.labels[idx]\n",
        "\n",
        "    return image, label\n",
        "\n",
        "train_x, valid_x, train_y, valid_y = train_test_split(\n",
        "  train_images, train_labels, test_size=0.2, random_state=RANDOM_SEED)\n",
        "\n",
        "train_loader = dataset.DataLoader(\n",
        "  Dataset(train_x, train_y, train=True), batch_size=64, shuffle=True)\n",
        "valid_loader = dataset.DataLoader(\n",
        "  Dataset(valid_x, valid_y), batch_size=64, shuffle=False)"
      ],
      "execution_count": 0,
      "outputs": []
    },
    {
      "cell_type": "markdown",
      "metadata": {
        "id": "sLBKKgb07XX0",
        "colab_type": "text"
      },
      "source": [
        "学習<br>\n",
        "optimizerはadam（学習係数は0.001）を使用しています。"
      ]
    },
    {
      "cell_type": "code",
      "metadata": {
        "id": "rSykqFWI7hkl",
        "colab_type": "code",
        "colab": {}
      },
      "source": [
        "def perform(model, loader, optimizer):\n",
        "  loss_total = 0\n",
        "  accuracy_total = 0\n",
        "  count = 0\n",
        "  \n",
        "  for images, labels in loader:\n",
        "    images = images.cuda()\n",
        "    labels = labels.cuda()\n",
        "\n",
        "    preds = model(images)\n",
        "    loss = nn.functional.cross_entropy(preds, labels)\n",
        "    \n",
        "    with torch.no_grad():\n",
        "      accuracy = torch.mean((torch.max(preds, dim=1)[1] == labels).float())\n",
        "\n",
        "    if optimizer is not None:\n",
        "      optimizer.zero_grad()\n",
        "      loss.backward()\n",
        "      optimizer.step()\n",
        "    \n",
        "    loss_total += float(loss.detach()) * len(images)\n",
        "    accuracy_total += float(accuracy.detach()) * len(images)\n",
        "    count += len(images)\n",
        "\n",
        "  return loss_total / count, accuracy_total / count\n",
        "\n",
        "\n",
        "optimizer = optim.Adam(model.parameters(), lr=0.001)\n",
        "log = []\n",
        "\n",
        "for epoch in range(10):\n",
        "  model.train()\n",
        "\n",
        "  with autograd.detect_anomaly():\n",
        "    train_loss, train_accuracy = perform(model, train_loader, optimizer)\n",
        "\n",
        "  model.eval()\n",
        "\n",
        "  with torch.no_grad():\n",
        "    valid_loss, valid_accuracy = perform(model, valid_loader, None)\n",
        "\n",
        "  print('[{}] train(loss/accuracy)={:.2f}/{:.2f}, valid(loss/accuracy)={:.2f}/{:.2f}'.format(\n",
        "    epoch + 1, train_loss, train_accuracy, valid_loss, valid_accuracy))\n",
        "  \n",
        "  log.append((epoch + 1, train_loss, train_accuracy, valid_loss, valid_accuracy))\n"
      ],
      "execution_count": 0,
      "outputs": []
    },
    {
      "cell_type": "code",
      "metadata": {
        "id": "IVVmpuJQ7mAh",
        "colab_type": "code",
        "colab": {}
      },
      "source": [
        "figure = plt.figure(figsize=(8, 3))\n",
        "\n",
        "axis = figure.add_subplot(1, 2, 1)\n",
        "axis.plot([x[0] for x in log], [x[1] for x in log], label='train')\n",
        "axis.plot([x[0] for x in log], [x[3] for x in log], label='valid')\n",
        "axis.set_xlabel('epoch')\n",
        "axis.set_ylabel('loss')\n",
        "axis.legend()\n",
        "\n",
        "axis = figure.add_subplot(1, 2, 2)\n",
        "axis.plot([x[0] for x in log], [x[2] for x in log], label='train')\n",
        "axis.plot([x[0] for x in log], [x[4] for x in log], label='valid')\n",
        "axis.set_xlabel('epoch')\n",
        "axis.set_ylabel('accuracy')\n",
        "axis.legend()\n",
        "\n",
        "plt.show()\n"
      ],
      "execution_count": 0,
      "outputs": []
    },
    {
      "cell_type": "markdown",
      "metadata": {
        "id": "y6Uosjye7wtu",
        "colab_type": "text"
      },
      "source": [
        "推論"
      ]
    },
    {
      "cell_type": "code",
      "metadata": {
        "id": "bblOGQsA71QK",
        "colab_type": "code",
        "colab": {}
      },
      "source": [
        "dummy_labels = np.zeros((test_images.shape[0], 1), dtype=np.int64)\n",
        "test_loader = dataset.DataLoader(\n",
        "  Dataset(test_images, dummy_labels), batch_size=64, shuffle=False)\n",
        "\n",
        "test_labels = []\n",
        "model.eval()\n",
        "\n",
        "for images, _ in test_loader:\n",
        "  images = images.cuda()\n",
        "  \n",
        "  with torch.no_grad():\n",
        "    preds = model(images)\n",
        "    preds = torch.max(preds, dim=1)[1]\n",
        "  \n",
        "  test_labels.extend(int(x) for x in preds)"
      ],
      "execution_count": 0,
      "outputs": []
    },
    {
      "cell_type": "markdown",
      "metadata": {
        "id": "ePy-wO7o74Ps",
        "colab_type": "text"
      },
      "source": [
        "提出ファイルの作成\n"
      ]
    },
    {
      "cell_type": "code",
      "metadata": {
        "id": "qx23bNI0738t",
        "colab_type": "code",
        "colab": {}
      },
      "source": [
        "with open('submission.csv', 'w') as writer:\n",
        "  csv_writer = csv.writer(writer)\n",
        "  csv_writer.writerow(('id', 'y'))\n",
        "  csv_writer.writerows((i + 1, x) for i, x in enumerate(test_labels))\n",
        "\n",
        "google.colab.files.download('submission.csv')\n"
      ],
      "execution_count": 0,
      "outputs": []
    }
  ]
}